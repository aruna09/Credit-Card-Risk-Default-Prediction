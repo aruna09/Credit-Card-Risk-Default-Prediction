{
  "cells": [
    {
      "cell_type": "markdown",
      "metadata": {
        "id": "view-in-github",
        "colab_type": "text"
      },
      "source": [
        "<a href=\"https://colab.research.google.com/github/aruna09/Credit-Card-Risk-Default-Prediction/blob/main/Credit_Risk_Challenge.ipynb\" target=\"_parent\"><img src=\"https://colab.research.google.com/assets/colab-badge.svg\" alt=\"Open In Colab\"/></a>"
      ]
    },
    {
      "cell_type": "markdown",
      "source": [
        "### Connecting to GDrive"
      ],
      "metadata": {
        "id": "VV7l__5tWHLw"
      }
    },
    {
      "cell_type": "code",
      "execution_count": null,
      "metadata": {
        "colab": {
          "base_uri": "https://localhost:8080/"
        },
        "id": "uJ6WT75NJ_UV",
        "outputId": "a22006f2-a956-4a22-f9fe-f4f5c995500c"
      },
      "outputs": [
        {
          "output_type": "stream",
          "name": "stdout",
          "text": [
            "Mounted at /content/drive\n"
          ]
        }
      ],
      "source": [
        "from google.colab import drive\n",
        "drive.mount('/content/drive')"
      ]
    },
    {
      "cell_type": "markdown",
      "source": [
        "### Importing the necessary libraries"
      ],
      "metadata": {
        "id": "6J8oeodCWUP8"
      }
    },
    {
      "cell_type": "code",
      "execution_count": null,
      "metadata": {
        "id": "waSgDgv2KSH-"
      },
      "outputs": [],
      "source": [
        "import os\n",
        "import pandas as pd\n",
        "import matplotlib.pyplot as plt\n",
        "import seaborn as sns\n",
        "from sklearn import preprocessing\n",
        "le = preprocessing.LabelEncoder()\n",
        "import numpy as np\n",
        "from sklearn import tree\n",
        "from sklearn.svm import SVC\n",
        "from sklearn import svm\n",
        "from sklearn.model_selection import RepeatedStratifiedKFold\n",
        "from sklearn.model_selection import cross_val_score\n",
        "from sklearn.ensemble import StackingClassifier\n",
        "from imblearn.over_sampling import SMOTE\n",
        "from sklearn.feature_selection import RFE\n",
        "from sklearn.linear_model import LogisticRegression\n",
        "from sklearn.naive_bayes import GaussianNB\n",
        "from sklearn.ensemble import ExtraTreesClassifier\n",
        "from sklearn.neighbors import KNeighborsClassifier\n",
        "from sklearn.ensemble import RandomForestClassifier\n",
        "\n",
        "sns.set()\n",
        "%matplotlib inline"
      ]
    },
    {
      "cell_type": "code",
      "execution_count": null,
      "metadata": {
        "id": "5q0pD91dwRRV"
      },
      "outputs": [],
      "source": [
        "sns.set(rc = {'figure.figsize':(15,8)})"
      ]
    },
    {
      "cell_type": "code",
      "execution_count": null,
      "metadata": {
        "id": "YSvACy9FKGT_"
      },
      "outputs": [],
      "source": [
        "path = \"/content/drive/My Drive/Credit-Risk-Challenge/dataset\"\n",
        "os.chdir(path)"
      ]
    },
    {
      "cell_type": "markdown",
      "source": [
        "### Loading data"
      ],
      "metadata": {
        "id": "9xsE3chBWad3"
      }
    },
    {
      "cell_type": "code",
      "execution_count": null,
      "metadata": {
        "id": "kjnrpXDOKVIm"
      },
      "outputs": [],
      "source": [
        "train = pd.read_csv('train.csv',error_bad_lines=False)\n",
        "test = pd.read_csv('test.csv',error_bad_lines=False)\n",
        "submission = pd.read_csv('sample_submission.csv',error_bad_lines=False)\n",
        "\n",
        "data = train"
      ]
    },
    {
      "cell_type": "code",
      "source": [
        "data.head()"
      ],
      "metadata": {
        "id": "OC6l21benVZD",
        "colab": {
          "base_uri": "https://localhost:8080/",
          "height": 305
        },
        "outputId": "4caf79e1-1819-4b6d-b2c0-0c8b856a4f0f"
      },
      "execution_count": null,
      "outputs": [
        {
          "output_type": "execute_result",
          "data": {
            "text/html": [
              "\n",
              "  <div id=\"df-1f0741ad-999c-4ac2-b359-a2791c215fe3\">\n",
              "    <div class=\"colab-df-container\">\n",
              "      <div>\n",
              "<style scoped>\n",
              "    .dataframe tbody tr th:only-of-type {\n",
              "        vertical-align: middle;\n",
              "    }\n",
              "\n",
              "    .dataframe tbody tr th {\n",
              "        vertical-align: top;\n",
              "    }\n",
              "\n",
              "    .dataframe thead th {\n",
              "        text-align: right;\n",
              "    }\n",
              "</style>\n",
              "<table border=\"1\" class=\"dataframe\">\n",
              "  <thead>\n",
              "    <tr style=\"text-align: right;\">\n",
              "      <th></th>\n",
              "      <th>customer_id</th>\n",
              "      <th>name</th>\n",
              "      <th>age</th>\n",
              "      <th>gender</th>\n",
              "      <th>owns_car</th>\n",
              "      <th>owns_house</th>\n",
              "      <th>no_of_children</th>\n",
              "      <th>net_yearly_income</th>\n",
              "      <th>no_of_days_employed</th>\n",
              "      <th>occupation_type</th>\n",
              "      <th>total_family_members</th>\n",
              "      <th>migrant_worker</th>\n",
              "      <th>yearly_debt_payments</th>\n",
              "      <th>credit_limit</th>\n",
              "      <th>credit_limit_used(%)</th>\n",
              "      <th>credit_score</th>\n",
              "      <th>prev_defaults</th>\n",
              "      <th>default_in_last_6months</th>\n",
              "      <th>credit_card_default</th>\n",
              "    </tr>\n",
              "  </thead>\n",
              "  <tbody>\n",
              "    <tr>\n",
              "      <th>0</th>\n",
              "      <td>CST_115179</td>\n",
              "      <td>ita Bose</td>\n",
              "      <td>46</td>\n",
              "      <td>F</td>\n",
              "      <td>N</td>\n",
              "      <td>Y</td>\n",
              "      <td>0.0</td>\n",
              "      <td>107934.04</td>\n",
              "      <td>612.0</td>\n",
              "      <td>Unknown</td>\n",
              "      <td>1.0</td>\n",
              "      <td>1.0</td>\n",
              "      <td>33070.28</td>\n",
              "      <td>18690.93</td>\n",
              "      <td>73</td>\n",
              "      <td>544.0</td>\n",
              "      <td>2</td>\n",
              "      <td>1</td>\n",
              "      <td>1</td>\n",
              "    </tr>\n",
              "    <tr>\n",
              "      <th>1</th>\n",
              "      <td>CST_121920</td>\n",
              "      <td>Alper Jonathan</td>\n",
              "      <td>29</td>\n",
              "      <td>M</td>\n",
              "      <td>N</td>\n",
              "      <td>Y</td>\n",
              "      <td>0.0</td>\n",
              "      <td>109862.62</td>\n",
              "      <td>2771.0</td>\n",
              "      <td>Laborers</td>\n",
              "      <td>2.0</td>\n",
              "      <td>0.0</td>\n",
              "      <td>15329.53</td>\n",
              "      <td>37745.19</td>\n",
              "      <td>52</td>\n",
              "      <td>857.0</td>\n",
              "      <td>0</td>\n",
              "      <td>0</td>\n",
              "      <td>0</td>\n",
              "    </tr>\n",
              "    <tr>\n",
              "      <th>2</th>\n",
              "      <td>CST_109330</td>\n",
              "      <td>Umesh Desai</td>\n",
              "      <td>37</td>\n",
              "      <td>M</td>\n",
              "      <td>N</td>\n",
              "      <td>Y</td>\n",
              "      <td>0.0</td>\n",
              "      <td>230153.17</td>\n",
              "      <td>204.0</td>\n",
              "      <td>Laborers</td>\n",
              "      <td>2.0</td>\n",
              "      <td>0.0</td>\n",
              "      <td>48416.60</td>\n",
              "      <td>41598.36</td>\n",
              "      <td>43</td>\n",
              "      <td>650.0</td>\n",
              "      <td>0</td>\n",
              "      <td>0</td>\n",
              "      <td>0</td>\n",
              "    </tr>\n",
              "    <tr>\n",
              "      <th>3</th>\n",
              "      <td>CST_128288</td>\n",
              "      <td>Rie</td>\n",
              "      <td>39</td>\n",
              "      <td>F</td>\n",
              "      <td>N</td>\n",
              "      <td>Y</td>\n",
              "      <td>0.0</td>\n",
              "      <td>122325.82</td>\n",
              "      <td>11941.0</td>\n",
              "      <td>Core staff</td>\n",
              "      <td>2.0</td>\n",
              "      <td>0.0</td>\n",
              "      <td>22574.36</td>\n",
              "      <td>32627.76</td>\n",
              "      <td>20</td>\n",
              "      <td>754.0</td>\n",
              "      <td>0</td>\n",
              "      <td>0</td>\n",
              "      <td>0</td>\n",
              "    </tr>\n",
              "    <tr>\n",
              "      <th>4</th>\n",
              "      <td>CST_151355</td>\n",
              "      <td>McCool</td>\n",
              "      <td>46</td>\n",
              "      <td>M</td>\n",
              "      <td>Y</td>\n",
              "      <td>Y</td>\n",
              "      <td>0.0</td>\n",
              "      <td>387286.00</td>\n",
              "      <td>1459.0</td>\n",
              "      <td>Core staff</td>\n",
              "      <td>1.0</td>\n",
              "      <td>0.0</td>\n",
              "      <td>38282.95</td>\n",
              "      <td>52950.64</td>\n",
              "      <td>75</td>\n",
              "      <td>927.0</td>\n",
              "      <td>0</td>\n",
              "      <td>0</td>\n",
              "      <td>0</td>\n",
              "    </tr>\n",
              "  </tbody>\n",
              "</table>\n",
              "</div>\n",
              "      <button class=\"colab-df-convert\" onclick=\"convertToInteractive('df-1f0741ad-999c-4ac2-b359-a2791c215fe3')\"\n",
              "              title=\"Convert this dataframe to an interactive table.\"\n",
              "              style=\"display:none;\">\n",
              "        \n",
              "  <svg xmlns=\"http://www.w3.org/2000/svg\" height=\"24px\"viewBox=\"0 0 24 24\"\n",
              "       width=\"24px\">\n",
              "    <path d=\"M0 0h24v24H0V0z\" fill=\"none\"/>\n",
              "    <path d=\"M18.56 5.44l.94 2.06.94-2.06 2.06-.94-2.06-.94-.94-2.06-.94 2.06-2.06.94zm-11 1L8.5 8.5l.94-2.06 2.06-.94-2.06-.94L8.5 2.5l-.94 2.06-2.06.94zm10 10l.94 2.06.94-2.06 2.06-.94-2.06-.94-.94-2.06-.94 2.06-2.06.94z\"/><path d=\"M17.41 7.96l-1.37-1.37c-.4-.4-.92-.59-1.43-.59-.52 0-1.04.2-1.43.59L10.3 9.45l-7.72 7.72c-.78.78-.78 2.05 0 2.83L4 21.41c.39.39.9.59 1.41.59.51 0 1.02-.2 1.41-.59l7.78-7.78 2.81-2.81c.8-.78.8-2.07 0-2.86zM5.41 20L4 18.59l7.72-7.72 1.47 1.35L5.41 20z\"/>\n",
              "  </svg>\n",
              "      </button>\n",
              "      \n",
              "  <style>\n",
              "    .colab-df-container {\n",
              "      display:flex;\n",
              "      flex-wrap:wrap;\n",
              "      gap: 12px;\n",
              "    }\n",
              "\n",
              "    .colab-df-convert {\n",
              "      background-color: #E8F0FE;\n",
              "      border: none;\n",
              "      border-radius: 50%;\n",
              "      cursor: pointer;\n",
              "      display: none;\n",
              "      fill: #1967D2;\n",
              "      height: 32px;\n",
              "      padding: 0 0 0 0;\n",
              "      width: 32px;\n",
              "    }\n",
              "\n",
              "    .colab-df-convert:hover {\n",
              "      background-color: #E2EBFA;\n",
              "      box-shadow: 0px 1px 2px rgba(60, 64, 67, 0.3), 0px 1px 3px 1px rgba(60, 64, 67, 0.15);\n",
              "      fill: #174EA6;\n",
              "    }\n",
              "\n",
              "    [theme=dark] .colab-df-convert {\n",
              "      background-color: #3B4455;\n",
              "      fill: #D2E3FC;\n",
              "    }\n",
              "\n",
              "    [theme=dark] .colab-df-convert:hover {\n",
              "      background-color: #434B5C;\n",
              "      box-shadow: 0px 1px 3px 1px rgba(0, 0, 0, 0.15);\n",
              "      filter: drop-shadow(0px 1px 2px rgba(0, 0, 0, 0.3));\n",
              "      fill: #FFFFFF;\n",
              "    }\n",
              "  </style>\n",
              "\n",
              "      <script>\n",
              "        const buttonEl =\n",
              "          document.querySelector('#df-1f0741ad-999c-4ac2-b359-a2791c215fe3 button.colab-df-convert');\n",
              "        buttonEl.style.display =\n",
              "          google.colab.kernel.accessAllowed ? 'block' : 'none';\n",
              "\n",
              "        async function convertToInteractive(key) {\n",
              "          const element = document.querySelector('#df-1f0741ad-999c-4ac2-b359-a2791c215fe3');\n",
              "          const dataTable =\n",
              "            await google.colab.kernel.invokeFunction('convertToInteractive',\n",
              "                                                     [key], {});\n",
              "          if (!dataTable) return;\n",
              "\n",
              "          const docLinkHtml = 'Like what you see? Visit the ' +\n",
              "            '<a target=\"_blank\" href=https://colab.research.google.com/notebooks/data_table.ipynb>data table notebook</a>'\n",
              "            + ' to learn more about interactive tables.';\n",
              "          element.innerHTML = '';\n",
              "          dataTable['output_type'] = 'display_data';\n",
              "          await google.colab.output.renderOutput(dataTable, element);\n",
              "          const docLink = document.createElement('div');\n",
              "          docLink.innerHTML = docLinkHtml;\n",
              "          element.appendChild(docLink);\n",
              "        }\n",
              "      </script>\n",
              "    </div>\n",
              "  </div>\n",
              "  "
            ],
            "text/plain": [
              "  customer_id            name  ...  default_in_last_6months credit_card_default\n",
              "0  CST_115179        ita Bose  ...                        1                   1\n",
              "1  CST_121920  Alper Jonathan  ...                        0                   0\n",
              "2  CST_109330     Umesh Desai  ...                        0                   0\n",
              "3  CST_128288             Rie  ...                        0                   0\n",
              "4  CST_151355          McCool  ...                        0                   0\n",
              "\n",
              "[5 rows x 19 columns]"
            ]
          },
          "metadata": {},
          "execution_count": 6
        }
      ]
    },
    {
      "cell_type": "markdown",
      "source": [
        "### Visualization"
      ],
      "metadata": {
        "id": "htiDrIIopo3f"
      }
    },
    {
      "cell_type": "code",
      "execution_count": null,
      "metadata": {
        "id": "G22ydpnFvXFD"
      },
      "outputs": [],
      "source": [
        "plot = sns.histplot(data=data, x='occupation_type', hue='gender', multiple='stack')\n",
        "sns.set(rc = {'figure.figsize':(8,8)})\n",
        "x_ticks = plot.get_xticklabels()\n",
        "plt.setp(x_ticks, rotation=90)"
      ]
    },
    {
      "cell_type": "code",
      "execution_count": null,
      "metadata": {
        "id": "zSxycquAzpR-"
      },
      "outputs": [],
      "source": [
        "plot = sns.barplot(data=data, x='occupation_type', y='credit_card_default', hue='gender')\n",
        "sns.set(rc = {'figure.figsize':(15,15)})\n",
        "x_ticks = plot.get_xticklabels()\n",
        "plt.setp(x_ticks, rotation=90)"
      ]
    },
    {
      "cell_type": "code",
      "source": [
        "plot = sns.barplot(data=data, x='migrant_worker', y='default_in_last_6months')\n",
        "sns.set(rc = {'figure.figsize':(15,8)})\n",
        "x_ticks = plot.get_xticklabels()"
      ],
      "metadata": {
        "id": "Xy_onvqFZwb9"
      },
      "execution_count": null,
      "outputs": []
    },
    {
      "cell_type": "markdown",
      "metadata": {
        "id": "UcZQvl9-vYwz"
      },
      "source": [
        "### Dropping insignificant columns"
      ]
    },
    {
      "cell_type": "code",
      "execution_count": null,
      "metadata": {
        "id": "YGR10UUNutz3"
      },
      "outputs": [],
      "source": [
        "def drop_insignificant_columns(data):\n",
        "  data = data.drop(['customer_id', 'name'], axis=1)\n",
        "  return data"
      ]
    },
    {
      "cell_type": "markdown",
      "metadata": {
        "id": "Dt0NA4gqzitu"
      },
      "source": [
        "### Imputing Total Family Members"
      ]
    },
    {
      "cell_type": "code",
      "execution_count": null,
      "metadata": {
        "id": "nWcMnzejzmsd"
      },
      "outputs": [],
      "source": [
        "def impute_total_family_members(data):\n",
        "  data['total_family_members'] = data['total_family_members'].fillna(data.groupby(['migrant_worker'])['total_family_members'].transform('median'))\n",
        "  return data"
      ]
    },
    {
      "cell_type": "code",
      "execution_count": null,
      "metadata": {
        "id": "txD9LUmW0KrF"
      },
      "outputs": [],
      "source": [
        "def drop_null_total_family_member_rows(data):\n",
        "  data = data.dropna(subset=['total_family_members'])\n",
        "  return data"
      ]
    },
    {
      "cell_type": "markdown",
      "metadata": {
        "id": "tds23DeloCAo"
      },
      "source": [
        "### Imputing Number of children:\n",
        "\n",
        "Assumption: there are atleast both the parents. Hence when the Family only contains 2 or less than 2 members the number of children is 0\n",
        "\n",
        "\n",
        "if the total Number Of Family Members <=2 then number of children = 0\n",
        "\n",
        "if the total Number Of Family Members ==3 then number of children = 1\n",
        "\n",
        "if the total Number Of Family Members ==4 then number of children = 2\n",
        "\n",
        "if the total Number Of Family Members >=5 then number of children = 3"
      ]
    },
    {
      "cell_type": "code",
      "execution_count": null,
      "metadata": {
        "id": "JENfMuEhRWPI"
      },
      "outputs": [],
      "source": [
        "def impute_no_of_children(data):\n",
        "  data.loc[data['total_family_members'] <= 2, 'no_of_children'] = data.loc[data['total_family_members'] <= 2, 'no_of_children'].fillna(0)\n",
        "  data.loc[data['total_family_members'] == 3, 'no_of_children'] = data.loc[data['total_family_members'] == 3, 'no_of_children'].fillna(1)\n",
        "  data.loc[data['total_family_members'] == 4, 'no_of_children'] = data.loc[data['total_family_members'] == 4, 'no_of_children'].fillna(2)\n",
        "  data.loc[data['total_family_members'] >= 5, 'no_of_children'] = data.loc[data['total_family_members'] >= 5, 'no_of_children'].fillna(3)\n",
        "  return data"
      ]
    },
    {
      "cell_type": "markdown",
      "metadata": {
        "id": "qYBGjZvYo7eP"
      },
      "source": [
        "### Imputing Number of days Employed\n",
        "\n",
        "Replacing all null values by the mean, given data is grouped by occupation and gender."
      ]
    },
    {
      "cell_type": "code",
      "execution_count": null,
      "metadata": {
        "id": "sY-wlY9QaGHM"
      },
      "outputs": [],
      "source": [
        "def impute_no_of_days_employed(data):\n",
        "  data['no_of_days_employed'] = data['no_of_days_employed'].fillna(data.groupby(['gender', 'occupation_type'])['no_of_days_employed'].transform('mean'))\n",
        "  return data"
      ]
    },
    {
      "cell_type": "markdown",
      "metadata": {
        "id": "LPKHjpf1pJoH"
      },
      "source": [
        "### Imputing Yearly Debt Payments and Credit Score\n",
        "\n",
        "Using Occupation type to group data and replace all null values by the mean of yearly debt payments for that occupation type."
      ]
    },
    {
      "cell_type": "code",
      "execution_count": null,
      "metadata": {
        "id": "ub9AFzI-nzi4"
      },
      "outputs": [],
      "source": [
        "def impute_yearlyDebtPayments_and_CreditScore(data):\n",
        "  data['yearly_debt_payments'] = data['yearly_debt_payments'].fillna(data.groupby(['gender', 'occupation_type'])['yearly_debt_payments'].transform('mean'))\n",
        "  data['credit_score'] = data['credit_score'].fillna(data.groupby(['occupation_type', 'gender'])['credit_score'].transform('mean'))\n",
        "  return data"
      ]
    },
    {
      "cell_type": "markdown",
      "metadata": {
        "id": "lW6uD_OMpYY_"
      },
      "source": [
        "### Imputing Migrant Worker\n",
        "\n",
        "Deciding if a given entry is a migrant worker or not based on whether they have defaulted in the last 6 months. \n",
        "\n",
        "From data visualization, it is clear that a migrant worker tends to default more than everyone else."
      ]
    },
    {
      "cell_type": "code",
      "execution_count": null,
      "metadata": {
        "id": "ASOPB0cD97pP"
      },
      "outputs": [],
      "source": [
        "def impute_migrant_worker(data):\n",
        "  data.loc[data['default_in_last_6months'] == 1, 'migrant_worker'] = data.loc[data['default_in_last_6months'] == 1, 'migrant_worker'].fillna(1)\n",
        "  data.loc[data['default_in_last_6months'] == 0, 'migrant_worker'] = data.loc[data['default_in_last_6months'] == 0, 'migrant_worker'].fillna(0)\n",
        "  return data"
      ]
    },
    {
      "cell_type": "markdown",
      "metadata": {
        "id": "jAshQEZtpwgG"
      },
      "source": [
        "### Imputing all categorical values to ints using Label Encoder."
      ]
    },
    {
      "cell_type": "code",
      "execution_count": null,
      "metadata": {
        "id": "OZ-cJOTL9gvm"
      },
      "outputs": [],
      "source": [
        "def impute_categorical_variables(data):\n",
        "  le.fit(data.owns_house)\n",
        "  data.owns_house = le.transform(data.owns_house)\n",
        "\n",
        "  le.fit(data.owns_car)\n",
        "  data.owns_car = le.transform(data.owns_car)\n",
        "\n",
        "  le.fit(data.gender)\n",
        "  data.gender = le.transform(data.gender)\n",
        "\n",
        "  le.fit(data.occupation_type)\n",
        "  data.occupation_type = le.transform(data.occupation_type)\n",
        "  return data"
      ]
    },
    {
      "cell_type": "markdown",
      "metadata": {
        "id": "B54E4dmWuxDC"
      },
      "source": [
        "### Chopping off the decimal part."
      ]
    },
    {
      "cell_type": "code",
      "execution_count": null,
      "metadata": {
        "id": "4yTWq9Cz9TZe"
      },
      "outputs": [],
      "source": [
        "def make_int(data):\n",
        "  return data.astype(int)"
      ]
    },
    {
      "cell_type": "markdown",
      "metadata": {
        "id": "u1kts9jsDinf"
      },
      "source": [
        "### Standardizing data"
      ]
    },
    {
      "cell_type": "code",
      "execution_count": null,
      "metadata": {
        "id": "5BVydQXpDUqw"
      },
      "outputs": [],
      "source": [
        "from sklearn.preprocessing import RobustScaler\n",
        "def standardize_data(data):\n",
        "  scaler = preprocessing.StandardScaler().fit(data)\n",
        "  #scaler = RobustScaler().fit(data)\n",
        "  X_scaled = scaler.transform(data)\n",
        "  return X_scaled"
      ]
    },
    {
      "cell_type": "markdown",
      "metadata": {
        "id": "kM2exbVV0B8N"
      },
      "source": [
        "### Normalizing data"
      ]
    },
    {
      "cell_type": "code",
      "execution_count": null,
      "metadata": {
        "id": "HNxd9V600FTr"
      },
      "outputs": [],
      "source": [
        "def normalize_data(data):\n",
        "  X_normalized = preprocessing.normalize(data, norm='l2')\n",
        "  return X_normalized"
      ]
    },
    {
      "cell_type": "markdown",
      "source": [
        "### Dealing with the Class Imbalance"
      ],
      "metadata": {
        "id": "UvqvXtvnqlWU"
      }
    },
    {
      "cell_type": "code",
      "source": [
        "pip install imbalanced-learn"
      ],
      "metadata": {
        "id": "4C7sN0eAwAkn",
        "colab": {
          "base_uri": "https://localhost:8080/"
        },
        "outputId": "866a6754-4e5c-4f25-8339-db6e8a498d41"
      },
      "execution_count": null,
      "outputs": [
        {
          "output_type": "stream",
          "name": "stdout",
          "text": [
            "Requirement already satisfied: imbalanced-learn in /usr/local/lib/python3.7/dist-packages (0.8.1)\n",
            "Requirement already satisfied: joblib>=0.11 in /usr/local/lib/python3.7/dist-packages (from imbalanced-learn) (1.1.0)\n",
            "Requirement already satisfied: numpy>=1.13.3 in /usr/local/lib/python3.7/dist-packages (from imbalanced-learn) (1.19.5)\n",
            "Requirement already satisfied: scipy>=0.19.1 in /usr/local/lib/python3.7/dist-packages (from imbalanced-learn) (1.4.1)\n",
            "Requirement already satisfied: scikit-learn>=0.24 in /usr/local/lib/python3.7/dist-packages (from imbalanced-learn) (1.0.1)\n",
            "Requirement already satisfied: threadpoolctl>=2.0.0 in /usr/local/lib/python3.7/dist-packages (from scikit-learn>=0.24->imbalanced-learn) (3.0.0)\n"
          ]
        }
      ]
    },
    {
      "cell_type": "code",
      "source": [
        "def smote_resampling_training_data():\n",
        "  smote = SMOTE(sampling_strategy = 'minority')\n",
        "  X_sm, y_sm = smote.fit_resample(x, y)\n",
        "  return X_sm, y_sm"
      ],
      "metadata": {
        "id": "Wt71Ep02uLOh"
      },
      "execution_count": null,
      "outputs": []
    },
    {
      "cell_type": "markdown",
      "metadata": {
        "id": "9oFv0INXw8NO"
      },
      "source": [
        "### Preprocessing the Train set"
      ]
    },
    {
      "cell_type": "code",
      "execution_count": null,
      "metadata": {
        "id": "LNHioIKFwm61"
      },
      "outputs": [],
      "source": [
        "data = drop_insignificant_columns(data)\n",
        "data = drop_null_total_family_member_rows(data)\n",
        "data = impute_migrant_worker(data)\n",
        "data = impute_yearlyDebtPayments_and_CreditScore(data)\n",
        "data = impute_no_of_days_employed(data)\n",
        "data = impute_no_of_children(data)\n",
        "data = impute_categorical_variables(data)\n",
        "data.iloc[:, 0:16] = standardize_data(data.iloc[:, 0:16])\n",
        "data.iloc[:, 0:16] = normalize_data(data.iloc[:, 0:16])"
      ]
    },
    {
      "cell_type": "markdown",
      "metadata": {
        "id": "lZsoW2uMv4G_"
      },
      "source": [
        "### Preprocessing the test dataset"
      ]
    },
    {
      "cell_type": "code",
      "execution_count": null,
      "metadata": {
        "id": "YNfCA0aRv3TE"
      },
      "outputs": [],
      "source": [
        "test = impute_total_family_members(test)\n",
        "test = impute_migrant_worker(test)\n",
        "test = impute_yearlyDebtPayments_and_CreditScore(test)\n",
        "test = impute_no_of_days_employed(test)\n",
        "test = impute_no_of_children(test)\n",
        "test = impute_categorical_variables(test)\n",
        "test.iloc[:, 2:] = standardize_data(test.iloc[:, 2:])\n",
        "test.iloc[:, 2:] = normalize_data(test.iloc[:, 2:])"
      ]
    },
    {
      "cell_type": "markdown",
      "metadata": {
        "id": "HFI92iwdu3EC"
      },
      "source": [
        "### Model Building"
      ]
    },
    {
      "cell_type": "code",
      "execution_count": null,
      "metadata": {
        "id": "i7f8GU4ZxV9d"
      },
      "outputs": [],
      "source": [
        "x = data.iloc[:, 0: 16]\n",
        "y = data.iloc[:, -1]\n",
        "\n",
        "X_train, y_train = smote_resampling_training_data()\n",
        "\n",
        "X_test = test.iloc[:, 2:]"
      ]
    },
    {
      "cell_type": "markdown",
      "source": [
        "### Logistic Regression = 92.03198/ SMOTE LR: 86.87"
      ],
      "metadata": {
        "id": "lgtfa9OAhzGP"
      }
    },
    {
      "cell_type": "markdown",
      "source": [
        "Regressive Feature Elimination"
      ],
      "metadata": {
        "id": "LDZCVRV0m5a1"
      }
    },
    {
      "cell_type": "code",
      "source": [
        "#Selecting the Best important features according to Logistic Regression\n",
        "rfe_selector = RFE(estimator=LogisticRegression(),n_features_to_select = 6, step = 1)\n",
        "clf = rfe_selector.fit(X_train, y_train)\n",
        "clf.score(X_train, y_train)\n",
        "X_train.columns[rfe_selector.get_support()]"
      ],
      "metadata": {
        "id": "8e6cudjj4W_C"
      },
      "execution_count": null,
      "outputs": []
    },
    {
      "cell_type": "markdown",
      "source": [
        "Feature Importance"
      ],
      "metadata": {
        "id": "DaI-c_69peQ2"
      }
    },
    {
      "cell_type": "code",
      "source": [
        "# fit an Extra Trees model to the data\n",
        "model = ExtraTreesClassifier()\n",
        "model.fit(X_train, y_train)\n",
        "# display the relative importance of each attribute\n",
        "print(model.feature_importances_)"
      ],
      "metadata": {
        "id": "o6fHnI1o5Rp7"
      },
      "execution_count": null,
      "outputs": []
    },
    {
      "cell_type": "code",
      "execution_count": null,
      "metadata": {
        "id": "14g4POlqu61N"
      },
      "outputs": [],
      "source": [
        "clf = LogisticRegression(random_state=0).fit(X_train, y_train)\n",
        "clf.score(X_train, y_train)\n",
        "y_test = clf.predict(X_test)"
      ]
    },
    {
      "cell_type": "markdown",
      "source": [
        "### Naiive Bayes = 90.3807 / SMOTE: 90.27"
      ],
      "metadata": {
        "id": "8kflajoSh7Vn"
      }
    },
    {
      "cell_type": "code",
      "source": [
        "gnb = GaussianNB()\n",
        "y_test = gnb.fit(X_train, y_train).predict(X_test)"
      ],
      "metadata": {
        "id": "xQc2aeMJh632"
      },
      "execution_count": null,
      "outputs": []
    },
    {
      "cell_type": "markdown",
      "source": [
        "KNN = 90.25124 / SMOTE: 87.0130"
      ],
      "metadata": {
        "id": "i_Nf1X-hiUPX"
      }
    },
    {
      "cell_type": "code",
      "source": [
        "neigh = KNeighborsClassifier(n_neighbors=2)\n",
        "neigh.fit(X_train, y_train)\n",
        "y_test = neigh.predict(X_test)"
      ],
      "metadata": {
        "id": "GjNohbuwiT2X"
      },
      "execution_count": null,
      "outputs": []
    },
    {
      "cell_type": "markdown",
      "source": [
        "Decision Trees = 80.40964 / SMOTE-88.36"
      ],
      "metadata": {
        "id": "hsanNsRdizBn"
      }
    },
    {
      "cell_type": "code",
      "source": [
        "clf = tree.DecisionTreeClassifier()\n",
        "clf = clf.fit(X_train, y_train)\n",
        "y_test = clf.predict(X_test)\n",
        "#tree.plot_tree(clf)"
      ],
      "metadata": {
        "id": "iPR-CDp6izKH"
      },
      "execution_count": null,
      "outputs": []
    },
    {
      "cell_type": "markdown",
      "source": [
        "Random Forest = 90.3807 / SMOTE: 87.74"
      ],
      "metadata": {
        "id": "2pnWYqaCjO8P"
      }
    },
    {
      "cell_type": "code",
      "source": [
        "clf = RandomForestClassifier(max_depth=2, random_state=0)\n",
        "clf.fit(X_train, y_train)\n",
        "y_test = clf.predict(X_test)"
      ],
      "metadata": {
        "id": "0fpf9haSjSAX"
      },
      "execution_count": null,
      "outputs": []
    },
    {
      "cell_type": "markdown",
      "source": [
        "SVM = 91.69243 / SMOTE: 87.95"
      ],
      "metadata": {
        "id": "DTo2T-LSjd5b"
      }
    },
    {
      "cell_type": "code",
      "source": [
        "clf = svm.SVC()\n",
        "clf.fit(X_train, y_train)\n",
        "y_test = clf.predict(X_test)"
      ],
      "metadata": {
        "id": "82NI78qhjRBO"
      },
      "execution_count": null,
      "outputs": []
    },
    {
      "cell_type": "markdown",
      "source": [
        "XGBoost"
      ],
      "metadata": {
        "id": "uz5a-GVY5yNC"
      }
    },
    {
      "cell_type": "code",
      "source": [
        "pip install xgboost"
      ],
      "metadata": {
        "id": "N9zJY6yq51db",
        "colab": {
          "base_uri": "https://localhost:8080/"
        },
        "outputId": "3baa0e91-6c76-4ebd-c0d3-138354b7ee61"
      },
      "execution_count": null,
      "outputs": [
        {
          "output_type": "stream",
          "name": "stdout",
          "text": [
            "Requirement already satisfied: xgboost in /usr/local/lib/python3.7/dist-packages (0.90)\n",
            "Requirement already satisfied: numpy in /usr/local/lib/python3.7/dist-packages (from xgboost) (1.19.5)\n",
            "Requirement already satisfied: scipy in /usr/local/lib/python3.7/dist-packages (from xgboost) (1.4.1)\n"
          ]
        }
      ]
    },
    {
      "cell_type": "code",
      "source": [
        "import xgboost as xgb\n",
        "\n",
        "xgb_cl = xgb.XGBClassifier()\n",
        "\n",
        "# Fit\n",
        "xgb_cl.fit(X_train, y_train)\n",
        "\n",
        "# Predict\n",
        "y_test = xgb_cl.predict(X_test)"
      ],
      "metadata": {
        "id": "Z0OGxyER55fh"
      },
      "execution_count": null,
      "outputs": []
    },
    {
      "cell_type": "markdown",
      "source": [
        "Stacking models"
      ],
      "metadata": {
        "id": "HnrmmvvQwfCx"
      }
    },
    {
      "cell_type": "code",
      "source": [
        "def models_all():\n",
        "    all_models = dict()\n",
        "    all_models['KNNC']= KNeighborsClassifier(n_neighbors = len(np.unique(y_train)), weights = 'distance')\n",
        "    all_models['SVC']= SVC(kernel = 'linear', class_weight = 'balanced', break_ties = True)\n",
        "    all_models['RF']= RandomForestClassifier(n_estimators= 200, oob_score = True, class_weight = \"balanced\", random_state = 20, ccp_alpha = 0.15)\n",
        "    all_models['GNB'] = GaussianNB()\n",
        "    all_models['Stacking'] = create_stacking_models()\n",
        "    return all_models"
      ],
      "metadata": {
        "id": "zRjeb2BJwQrZ"
      },
      "execution_count": null,
      "outputs": []
    },
    {
      "cell_type": "code",
      "source": [
        "def create_stacking_models():\n",
        "    base_models = list()\n",
        "    base_models.append(('KNNC', KNeighborsClassifier(n_neighbors = len(np.unique(y_train)) , weights = 'distance')))\n",
        "    base_models.append(('SVC', SVC(kernel = 'linear', class_weight = 'balanced', break_ties = True)))    \n",
        "    base_models.append(('GNB', GaussianNB()))\n",
        "    base_models.append(('RF', RandomForestClassifier(n_estimators= 200, oob_score = True, class_weight = \"balanced\", random_state = 20, ccp_alpha = 0.1)))\n",
        "    ##Base estimators which will be stacked together\n",
        "    meta_model = LogisticRegression()\n",
        "    final_model = StackingClassifier(estimators = base_models, final_estimator = meta_model, cv = 5)\n",
        "    return final_model"
      ],
      "metadata": {
        "id": "tqMyiGDAwUph"
      },
      "execution_count": null,
      "outputs": []
    },
    {
      "cell_type": "code",
      "source": [
        "def evaluate_model(model):\n",
        "    cv = RepeatedStratifiedKFold(n_splits=10, n_repeats=3, random_state=42)\n",
        "    scores = cross_val_score(model, X_train, y_train, scoring='f1_weighted', cv=cv, error_score='raise')\n",
        "    return scores"
      ],
      "metadata": {
        "id": "gRr2lCGAwXeK"
      },
      "execution_count": null,
      "outputs": []
    },
    {
      "cell_type": "code",
      "execution_count": null,
      "metadata": {
        "id": "AGyVFlbTvQsc"
      },
      "outputs": [],
      "source": [
        "model_results = list()\n",
        "models = models_all()\n",
        "names = list()\n",
        "\n",
        "# Create a for loop that iterates over each name, model in models dictionary \n",
        "for name, model in models.items():\n",
        "    scores = evaluate_model(model)\n",
        "    model_results.append(scores)\n",
        "    names.append(name)\n",
        "    print('>%s %.3f (%.3f) \\n' % (name, np.mean(scores), np.std(scores)))"
      ]
    },
    {
      "cell_type": "code",
      "source": [
        "base_models = list()\n",
        "base_models.append(('KNNC', KNeighborsClassifier(n_neighbors = len(np.unique(y_train)) , weights = 'distance')))\n",
        "base_models.append(('SVC', SVC(kernel = 'linear', class_weight = 'balanced', break_ties = True)))    \n",
        "base_models.append(('GNB', GaussianNB()))\n",
        "base_models.append(('RF', RandomForestClassifier(n_estimators= 200, oob_score = True, class_weight = \"balanced\", random_state = 20, ccp_alpha = 0.1)))\n",
        "\n",
        "##Base estimators which will be stacked together\n",
        "meta_model = LogisticRegression()\n",
        "final_model = StackingClassifier(estimators = base_models, final_estimator = meta_model, cv = 5)\n",
        "final_model.fit(X_train, y_train)\n",
        "y_test = final_model.predict(X_test)"
      ],
      "metadata": {
        "id": "dwegMTsEVOaO"
      },
      "execution_count": null,
      "outputs": []
    },
    {
      "cell_type": "markdown",
      "metadata": {
        "id": "eK2DYbNwvP70"
      },
      "source": [
        "### Plotting model performance"
      ]
    },
    {
      "cell_type": "code",
      "source": [
        "# plot model performance for comparison\n",
        "from matplotlib import pyplot\n",
        "pyplot.boxplot(model_results, labels=names, showmeans=True)\n",
        "pyplot.show()"
      ],
      "metadata": {
        "colab": {
          "base_uri": "https://localhost:8080/",
          "height": 268
        },
        "id": "DWVboOFTTeG2",
        "outputId": "f90a1e78-3e7e-4054-ce3e-b7c870021d56"
      },
      "execution_count": null,
      "outputs": [
        {
          "output_type": "display_data",
          "data": {
            "image/png": "[encoded data removed]",
            "text/plain": [
              "<Figure size 432x288 with 1 Axes>"
            ]
          },
          "metadata": {
            "needs_background": "light"
          }
        }
      ]
    },
    {
      "cell_type": "markdown",
      "source": [
        "### Create Submission csv"
      ],
      "metadata": {
        "id": "Hv-0__o5h3T3"
      }
    },
    {
      "cell_type": "code",
      "execution_count": null,
      "metadata": {
        "id": "y--CqD-IyhtN"
      },
      "outputs": [],
      "source": [
        "submission_csv = pd.DataFrame({'customer_id':test.customer_id, 'credit_card_default': y_test})\n",
        "submission_csv.to_csv(path + 'submission_file.csv', index=False)"
      ]
    }
  ],
  "metadata": {
    "colab": {
      "name": "Credit-Risk-Challenge.ipynb",
      "provenance": [],
      "authorship_tag": "ABX9TyPsQ+uIiJz0gtKrEztQKEHX",
      "include_colab_link": true
    },
    "kernelspec": {
      "display_name": "Python 3",
      "name": "python3"
    },
    "language_info": {
      "name": "python"
    }
  },
  "nbformat": 4,
  "nbformat_minor": 0
}